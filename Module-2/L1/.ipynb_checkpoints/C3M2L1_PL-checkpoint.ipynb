{
 "cells": [
  {
   "cell_type": "markdown",
   "metadata": {
    "read_only": true,
    "tags": []
   },
   "source": [
    "# Practice Lab: Buenos Aires subway - Data structures\n",
    "\n",
    "As a data analyst, you are examining public transportation accessibility in Buenos Aires, Argentina, for an upcoming project. You are particularly interested in the subway system as an efficient way to navigate the city. You will first focus on the Pueyrredon station on Line D of the subway and examine its ridership.\n",
    "\n",
    "<div style=\"text-align: center;\">\n",
    "    <img src=\"imgsL1/subway_map_wcircle.jpg\" alt=\"Subway map\" width=\"800\"/>\n",
    "</div>\n",
    "\n",
    "<div style=\"text-align: center;\">\n",
    "    <a href=\"https://emova.com.ar/wp-content/uploads/2023/09/Mapa_Emova_2023-color-.jpg\">image source</a>\n",
    "</div>\n",
    "\n",
    "\n",
    "## General instructions\n",
    "- **Replace any instances of `None` with your own code**. All `None`s must be replaced.\n",
    "- **Compare your results with the expected output** shown below the code.\n",
    "- **Check the solution** using the expandable cell to verify your answer.\n",
    "\n",
    "Happy coding!\n",
    "\n",
    "<div style=\"background-color: #FAD888; padding: 10px; border-radius: 3px; box-shadow: 0 2px 4px rgba(0, 0, 0, 0.1); width:95%\n",
    "\">\n",
    "<strong>Important note</strong>: Code blocks with None will not run properly. If you run them before completing the exercise, you will likely get an error. \n",
    "</div>"
   ]
  },
  {
   "cell_type": "markdown",
   "metadata": {
    "editable": true,
    "slideshow": {
     "slide_type": ""
    },
    "tags": []
   },
   "source": [
    "## Table of Contents\n",
    "\n",
    "- [Step 1: Load the data](#step-1)\n",
    "- [Step 2: Migrating from lists to a DataFrame](#step-2)\n",
    "- [Step 3: Select columns](#step-3)\n",
    "- [Step 4: Calculate the sum per column](#step-4)\n"
   ]
  },
  {
   "cell_type": "markdown",
   "metadata": {},
   "source": [
    "<a id=\"step-1\"></a>\n",
    "## Step 1: Load the data\n",
    "\n",
    "First, you will import `pandas` and load the dataset as a pandas DataFrame. The CSV will have these features:\n",
    "\n",
    "* `datetime` - hour and date the measurement was taken\n",
    "* `line` - subway line\n",
    "* `station`\t- station name\n",
    "* `pax_pagos` - paying passengers\n",
    "* `pax_pases_pagos` - passengers who paid with passes\n",
    "* `pax_franq` - passengers who paid with deductibles\n",
    "* `pax_total` - total number of passengers who used the turnstile\n",
    "\n",
    "<div style=\"background-color: #C6E2FF; padding: 10px; border-radius: 3px; box-shadow: 0 2px 4px rgba(0, 0, 0, 0.1); width:95%\n",
    "\">\n",
    "    <strong>▶▶▶ Directions</strong> \n",
    "        <ol>\n",
    "            <li>Use the cell below to import the pandas module. Assign it the alias: <code>pd</code>.</li>\n",
    "            <li>Load the CSV dataset to a variable <code>df</code>. The filename is <i>pueyrredon_march2024_8-11.csv</i></li>\n",
    "            <li>Print the first 5 rows.</li>\n",
    "        </ol>\n",
    "</div>\n",
    "\n"
   ]
  },
  {
   "cell_type": "code",
   "execution_count": 2,
   "metadata": {},
   "outputs": [
    {
     "data": {
      "text/html": [
       "<div>\n",
       "<style scoped>\n",
       "    .dataframe tbody tr th:only-of-type {\n",
       "        vertical-align: middle;\n",
       "    }\n",
       "\n",
       "    .dataframe tbody tr th {\n",
       "        vertical-align: top;\n",
       "    }\n",
       "\n",
       "    .dataframe thead th {\n",
       "        text-align: right;\n",
       "    }\n",
       "</style>\n",
       "<table border=\"1\" class=\"dataframe\">\n",
       "  <thead>\n",
       "    <tr style=\"text-align: right;\">\n",
       "      <th></th>\n",
       "      <th>datetime</th>\n",
       "      <th>station</th>\n",
       "      <th>line</th>\n",
       "      <th>pax_pagos</th>\n",
       "      <th>pax_pases_pagos</th>\n",
       "      <th>pax_franq</th>\n",
       "      <th>pax_TOTAL</th>\n",
       "    </tr>\n",
       "  </thead>\n",
       "  <tbody>\n",
       "    <tr>\n",
       "      <th>0</th>\n",
       "      <td>2024-03-01 08:00:00</td>\n",
       "      <td>Pueyrredon.D</td>\n",
       "      <td>D</td>\n",
       "      <td>0</td>\n",
       "      <td>0</td>\n",
       "      <td>6</td>\n",
       "      <td>6</td>\n",
       "    </tr>\n",
       "    <tr>\n",
       "      <th>1</th>\n",
       "      <td>2024-03-01 09:00:00</td>\n",
       "      <td>Pueyrredon.D</td>\n",
       "      <td>D</td>\n",
       "      <td>0</td>\n",
       "      <td>0</td>\n",
       "      <td>5</td>\n",
       "      <td>5</td>\n",
       "    </tr>\n",
       "    <tr>\n",
       "      <th>2</th>\n",
       "      <td>2024-03-01 10:00:00</td>\n",
       "      <td>Pueyrredon.D</td>\n",
       "      <td>D</td>\n",
       "      <td>0</td>\n",
       "      <td>0</td>\n",
       "      <td>2</td>\n",
       "      <td>2</td>\n",
       "    </tr>\n",
       "    <tr>\n",
       "      <th>3</th>\n",
       "      <td>2024-03-01 11:00:00</td>\n",
       "      <td>Pueyrredon.D</td>\n",
       "      <td>D</td>\n",
       "      <td>0</td>\n",
       "      <td>0</td>\n",
       "      <td>3</td>\n",
       "      <td>3</td>\n",
       "    </tr>\n",
       "    <tr>\n",
       "      <th>4</th>\n",
       "      <td>2024-03-02 08:00:00</td>\n",
       "      <td>Pueyrredon.D</td>\n",
       "      <td>D</td>\n",
       "      <td>0</td>\n",
       "      <td>0</td>\n",
       "      <td>1</td>\n",
       "      <td>1</td>\n",
       "    </tr>\n",
       "  </tbody>\n",
       "</table>\n",
       "</div>"
      ],
      "text/plain": [
       "              datetime       station line  pax_pagos  pax_pases_pagos  \\\n",
       "0  2024-03-01 08:00:00  Pueyrredon.D    D          0                0   \n",
       "1  2024-03-01 09:00:00  Pueyrredon.D    D          0                0   \n",
       "2  2024-03-01 10:00:00  Pueyrredon.D    D          0                0   \n",
       "3  2024-03-01 11:00:00  Pueyrredon.D    D          0                0   \n",
       "4  2024-03-02 08:00:00  Pueyrredon.D    D          0                0   \n",
       "\n",
       "   pax_franq  pax_TOTAL  \n",
       "0          6          6  \n",
       "1          5          5  \n",
       "2          2          2  \n",
       "3          3          3  \n",
       "4          1          1  "
      ]
     },
     "execution_count": 2,
     "metadata": {},
     "output_type": "execute_result"
    }
   ],
   "source": [
    "### START CODE HERE ###\n",
    "\n",
    "# Import pandas here.\n",
    "import pandas as pd\n",
    "\n",
    "# Load the CSV to a DataFrame and save it in a variable called df.\n",
    "df = pd.read_csv('pueyrredon_march2024_8-11.csv', parse_dates=True)\n",
    "\n",
    "# Preview the first 5 rows.\n",
    "df.head()\n",
    "\n",
    "### END CODE HERE ###"
   ]
  },
  {
   "cell_type": "markdown",
   "metadata": {},
   "source": [
    "<details open>\n",
    "<summary style=\"background-color: #c6e2ff6c; padding: 10px; border-radius: 3px; box-shadow: 0 2px 4px rgba(0, 0, 0, 0.01); width: 95%; text-align: left; cursor: pointer; font-weight: bold;\">\n",
    "Expected output:</summary> \n",
    "\n",
    "<br>\n",
    "<img src=\"imgsL1/output_step1.png\" width=\"700\">\n",
    "</details>"
   ]
  },
  {
   "cell_type": "markdown",
   "metadata": {},
   "source": [
    "<details>\n",
    "<summary style=\"background-color: #FDBFC7; padding: 10px; border-radius: 3px; box-shadow: 0 2px 4px rgba(0, 0, 0, 0.1); width: 95%; text-align: left; cursor: pointer; font-weight: bold;\">\n",
    "Click here to see the solution</summary> \n",
    "\n",
    "<ul style=\"background-color: #FFF8F8; padding: 10px; border-radius: 3px; margin-top: 5px; width: 95%; box-shadow: inset 0 2px 4px rgba(0, 0, 0, 0.1);\">\n",
    "   \n",
    "Your solution should look something like this:\n",
    "\n",
    "```python\n",
    "# Import pandas here.\n",
    "import pandas as pd\n",
    "\n",
    "# Load the CSV to a DataFrame and save it in a variable called df.\n",
    "df = pd.read_csv(\"pueyrredon_march2024_8-11.csv\")\n",
    "\n",
    "# Preview the first 5 rows.\n",
    "df.head()\n",
    "```\n",
    "</details>"
   ]
  },
  {
   "cell_type": "markdown",
   "metadata": {},
   "source": [
    "You can also use the `sample()` method to get some random data points to inspect."
   ]
  },
  {
   "cell_type": "code",
   "execution_count": 3,
   "metadata": {},
   "outputs": [
    {
     "data": {
      "text/html": [
       "<div>\n",
       "<style scoped>\n",
       "    .dataframe tbody tr th:only-of-type {\n",
       "        vertical-align: middle;\n",
       "    }\n",
       "\n",
       "    .dataframe tbody tr th {\n",
       "        vertical-align: top;\n",
       "    }\n",
       "\n",
       "    .dataframe thead th {\n",
       "        text-align: right;\n",
       "    }\n",
       "</style>\n",
       "<table border=\"1\" class=\"dataframe\">\n",
       "  <thead>\n",
       "    <tr style=\"text-align: right;\">\n",
       "      <th></th>\n",
       "      <th>datetime</th>\n",
       "      <th>station</th>\n",
       "      <th>line</th>\n",
       "      <th>pax_pagos</th>\n",
       "      <th>pax_pases_pagos</th>\n",
       "      <th>pax_franq</th>\n",
       "      <th>pax_TOTAL</th>\n",
       "    </tr>\n",
       "  </thead>\n",
       "  <tbody>\n",
       "    <tr>\n",
       "      <th>92</th>\n",
       "      <td>2024-03-26 08:00:00</td>\n",
       "      <td>Pueyrredon.D</td>\n",
       "      <td>D</td>\n",
       "      <td>438</td>\n",
       "      <td>0</td>\n",
       "      <td>26</td>\n",
       "      <td>464</td>\n",
       "    </tr>\n",
       "    <tr>\n",
       "      <th>95</th>\n",
       "      <td>2024-03-26 11:00:00</td>\n",
       "      <td>Pueyrredon.D</td>\n",
       "      <td>D</td>\n",
       "      <td>519</td>\n",
       "      <td>0</td>\n",
       "      <td>35</td>\n",
       "      <td>554</td>\n",
       "    </tr>\n",
       "    <tr>\n",
       "      <th>10</th>\n",
       "      <td>2024-03-05 09:00:00</td>\n",
       "      <td>Pueyrredon.D</td>\n",
       "      <td>D</td>\n",
       "      <td>0</td>\n",
       "      <td>0</td>\n",
       "      <td>2</td>\n",
       "      <td>2</td>\n",
       "    </tr>\n",
       "    <tr>\n",
       "      <th>38</th>\n",
       "      <td>2024-03-12 10:00:00</td>\n",
       "      <td>Pueyrredon.D</td>\n",
       "      <td>D</td>\n",
       "      <td>282</td>\n",
       "      <td>0</td>\n",
       "      <td>30</td>\n",
       "      <td>312</td>\n",
       "    </tr>\n",
       "    <tr>\n",
       "      <th>109</th>\n",
       "      <td>2024-03-30 09:00:00</td>\n",
       "      <td>Pueyrredon.D</td>\n",
       "      <td>D</td>\n",
       "      <td>106</td>\n",
       "      <td>0</td>\n",
       "      <td>6</td>\n",
       "      <td>112</td>\n",
       "    </tr>\n",
       "    <tr>\n",
       "      <th>63</th>\n",
       "      <td>2024-03-18 11:00:00</td>\n",
       "      <td>Pueyrredon.D</td>\n",
       "      <td>D</td>\n",
       "      <td>460</td>\n",
       "      <td>0</td>\n",
       "      <td>51</td>\n",
       "      <td>511</td>\n",
       "    </tr>\n",
       "    <tr>\n",
       "      <th>75</th>\n",
       "      <td>2024-03-21 11:00:00</td>\n",
       "      <td>Pueyrredon.D</td>\n",
       "      <td>D</td>\n",
       "      <td>492</td>\n",
       "      <td>0</td>\n",
       "      <td>53</td>\n",
       "      <td>545</td>\n",
       "    </tr>\n",
       "    <tr>\n",
       "      <th>57</th>\n",
       "      <td>2024-03-17 09:00:00</td>\n",
       "      <td>Pueyrredon.D</td>\n",
       "      <td>D</td>\n",
       "      <td>41</td>\n",
       "      <td>0</td>\n",
       "      <td>2</td>\n",
       "      <td>43</td>\n",
       "    </tr>\n",
       "    <tr>\n",
       "      <th>33</th>\n",
       "      <td>2024-03-11 09:00:00</td>\n",
       "      <td>Pueyrredon.D</td>\n",
       "      <td>D</td>\n",
       "      <td>417</td>\n",
       "      <td>0</td>\n",
       "      <td>16</td>\n",
       "      <td>433</td>\n",
       "    </tr>\n",
       "    <tr>\n",
       "      <th>29</th>\n",
       "      <td>2024-03-10 09:00:00</td>\n",
       "      <td>Pueyrredon.D</td>\n",
       "      <td>D</td>\n",
       "      <td>49</td>\n",
       "      <td>0</td>\n",
       "      <td>3</td>\n",
       "      <td>52</td>\n",
       "    </tr>\n",
       "  </tbody>\n",
       "</table>\n",
       "</div>"
      ],
      "text/plain": [
       "                datetime       station line  pax_pagos  pax_pases_pagos  \\\n",
       "92   2024-03-26 08:00:00  Pueyrredon.D    D        438                0   \n",
       "95   2024-03-26 11:00:00  Pueyrredon.D    D        519                0   \n",
       "10   2024-03-05 09:00:00  Pueyrredon.D    D          0                0   \n",
       "38   2024-03-12 10:00:00  Pueyrredon.D    D        282                0   \n",
       "109  2024-03-30 09:00:00  Pueyrredon.D    D        106                0   \n",
       "63   2024-03-18 11:00:00  Pueyrredon.D    D        460                0   \n",
       "75   2024-03-21 11:00:00  Pueyrredon.D    D        492                0   \n",
       "57   2024-03-17 09:00:00  Pueyrredon.D    D         41                0   \n",
       "33   2024-03-11 09:00:00  Pueyrredon.D    D        417                0   \n",
       "29   2024-03-10 09:00:00  Pueyrredon.D    D         49                0   \n",
       "\n",
       "     pax_franq  pax_TOTAL  \n",
       "92          26        464  \n",
       "95          35        554  \n",
       "10           2          2  \n",
       "38          30        312  \n",
       "109          6        112  \n",
       "63          51        511  \n",
       "75          53        545  \n",
       "57           2         43  \n",
       "33          16        433  \n",
       "29           3         52  "
      ]
     },
     "execution_count": 3,
     "metadata": {},
     "output_type": "execute_result"
    }
   ],
   "source": [
    "# Get 10 random samples\n",
    "df.sample(10)"
   ]
  },
  {
   "cell_type": "markdown",
   "metadata": {},
   "source": [
    "<a id=\"step-2\"></a>\n",
    "## Step 2: Inspect the dataset\n",
    "\n",
    "Next, you will inspect characteristics of the DataFrame to understand the data.\n",
    "\n",
    "<div style=\"background-color: #C6E2FF; padding: 10px; border-radius: 3px; box-shadow: 0 2px 4px rgba(0, 0, 0, 0.1); width:95%\n",
    "\">\n",
    "    <strong>▶▶▶ Directions</strong> \n",
    "        <ol>\n",
    "            <li>Get the columns from the dataset using the <code>columns()</code> method and assign it to the <code>df_columns</code> variable.</li>\n",
    "            <li>Get the data types using the <code>dtypes()</code> method and assign it to the <code>df_dtypes</code> variable.</i></li>\n",
    "            <li>Print the first 5 rows.</li>\n",
    "        </ol>\n",
    "</div>"
   ]
  },
  {
   "cell_type": "code",
   "execution_count": 7,
   "metadata": {},
   "outputs": [
    {
     "name": "stdout",
     "output_type": "stream",
     "text": [
      "The columns of the dataset are: ['datetime', 'station', 'line', 'pax_pagos', 'pax_pases_pagos', 'pax_franq', 'pax_TOTAL']\n",
      "\n",
      "The data types of each column are:\n",
      "\n",
      "datetime           object\n",
      "station            object\n",
      "line               object\n",
      "pax_pagos           int64\n",
      "pax_pases_pagos     int64\n",
      "pax_franq           int64\n",
      "pax_TOTAL           int64\n",
      "dtype: object\n"
     ]
    }
   ],
   "source": [
    "### START CODE HERE ###\n",
    "\n",
    "# Get the columns\n",
    "df_columns = df.columns\n",
    "\n",
    "# Get the datatypes\n",
    "df_dtypes = df.dtypes\n",
    "\n",
    "### END CODE HERE ###\n",
    "\n",
    "print(\"The columns of the dataset are:\", list(df_columns))\n",
    "print(\"\\nThe data types of each column are:\\n\")\n",
    "print(df_dtypes)"
   ]
  },
  {
   "cell_type": "markdown",
   "metadata": {},
   "source": [
    "<details open>\n",
    "<summary style=\"background-color: #c6e2ff6c; padding: 10px; border-radius: 3px; box-shadow: 0 2px 4px rgba(0, 0, 0, 0.01); width: 95%; text-align: left; cursor: pointer; font-weight: bold;\">\n",
    "Expected output:</summary> \n",
    "\n",
    "<br>\n",
    "\n",
    "```text\n",
    "\n",
    "The columns of the dataset are: ['datetime', 'station', 'line', 'pax_pagos', 'pax_pases_pagos', 'pax_franq', 'pax_TOTAL']\n",
    "\n",
    "The data types of each column are:\n",
    "datetime           object\n",
    "station            object\n",
    "line               object\n",
    "pax_pagos           int64\n",
    "pax_pases_pagos     int64\n",
    "pax_franq           int64\n",
    "pax_TOTAL           int64\n",
    "dtype: object\n",
    "\n",
    "```\n",
    "\n",
    "</details>"
   ]
  },
  {
   "cell_type": "markdown",
   "metadata": {},
   "source": [
    "<details>\n",
    "<summary style=\"background-color: #FDBFC7; padding: 10px; border-radius: 3px; box-shadow: 0 2px 4px rgba(0, 0, 0, 0.1); width: 95%; text-align: left; cursor: pointer; font-weight: bold;\">\n",
    "Click here to see the solution</summary> \n",
    "\n",
    "<ul style=\"background-color: #FFF8F8; padding: 10px; border-radius: 3px; margin-top: 5px; width: 95%; box-shadow: inset 0 2px 4px rgba(0, 0, 0, 0.1);\">\n",
    "   \n",
    "Your solution should look something like this:\n",
    "\n",
    "```python\n",
    "# Get the columns\n",
    "df_columns = df.columns\n",
    "\n",
    "# Get the datatypes\n",
    "df_dtypes = df.dtypes\n",
    "```\n",
    "</details>"
   ]
  },
  {
   "cell_type": "markdown",
   "metadata": {},
   "source": [
    "Another way to extract these information is to use the `.info()` method. This also provides a `Non-Null Count` column that detects if there are any null values in the dataset."
   ]
  },
  {
   "cell_type": "code",
   "execution_count": 8,
   "metadata": {},
   "outputs": [
    {
     "name": "stdout",
     "output_type": "stream",
     "text": [
      "<class 'pandas.core.frame.DataFrame'>\n",
      "RangeIndex: 116 entries, 0 to 115\n",
      "Data columns (total 7 columns):\n",
      " #   Column           Non-Null Count  Dtype \n",
      "---  ------           --------------  ----- \n",
      " 0   datetime         116 non-null    object\n",
      " 1   station          116 non-null    object\n",
      " 2   line             116 non-null    object\n",
      " 3   pax_pagos        116 non-null    int64 \n",
      " 4   pax_pases_pagos  116 non-null    int64 \n",
      " 5   pax_franq        116 non-null    int64 \n",
      " 6   pax_TOTAL        116 non-null    int64 \n",
      "dtypes: int64(4), object(3)\n",
      "memory usage: 6.5+ KB\n"
     ]
    }
   ],
   "source": [
    "# Print a summary of the features\n",
    "df.info()"
   ]
  },
  {
   "cell_type": "markdown",
   "metadata": {},
   "source": [
    "<a id=\"step-3\"></a>\n",
    "## Step 3: Select columns\n",
    "\n",
    "In real world data, you might receive a lot of features that you don't really need in your analysis. You might be interested in only a handful of features. You can select these specific columns in DataFrames to simplify your dataset. For example, in this use case, you don't find the `station` and `line` columns to be useful because they're the same for every row.\n",
    "\n",
    "<div style=\"background-color: #C6E2FF; padding: 10px; border-radius: 3px; box-shadow: 0 2px 4px rgba(0, 0, 0, 0.1); width:95%\n",
    "\">\n",
    "    <strong>▶▶▶ Directions</strong> \n",
    "        <ol>\n",
    "            <li>Define a <code>columns</code> variable containing the list of features in <code>df</code> except <code>station</code> and <code>line</code>. You can use the output of <code>df_columns</code> earlier then just remove the two features mentioned.</li>\n",
    "            <li>Select these columns from the <code>df</code> dataframe and assign it to the variable <code>df_pax</code>.</i></li>\n",
    "            <li>Print the first 5 rows of this new dataframe.</li>\n",
    "        </ol>\n",
    "</div>"
   ]
  },
  {
   "cell_type": "code",
   "execution_count": 9,
   "metadata": {},
   "outputs": [
    {
     "data": {
      "text/html": [
       "<div>\n",
       "<style scoped>\n",
       "    .dataframe tbody tr th:only-of-type {\n",
       "        vertical-align: middle;\n",
       "    }\n",
       "\n",
       "    .dataframe tbody tr th {\n",
       "        vertical-align: top;\n",
       "    }\n",
       "\n",
       "    .dataframe thead th {\n",
       "        text-align: right;\n",
       "    }\n",
       "</style>\n",
       "<table border=\"1\" class=\"dataframe\">\n",
       "  <thead>\n",
       "    <tr style=\"text-align: right;\">\n",
       "      <th></th>\n",
       "      <th>datetime</th>\n",
       "      <th>pax_pagos</th>\n",
       "      <th>pax_pases_pagos</th>\n",
       "      <th>pax_franq</th>\n",
       "      <th>pax_TOTAL</th>\n",
       "    </tr>\n",
       "  </thead>\n",
       "  <tbody>\n",
       "    <tr>\n",
       "      <th>0</th>\n",
       "      <td>2024-03-01 08:00:00</td>\n",
       "      <td>0</td>\n",
       "      <td>0</td>\n",
       "      <td>6</td>\n",
       "      <td>6</td>\n",
       "    </tr>\n",
       "    <tr>\n",
       "      <th>1</th>\n",
       "      <td>2024-03-01 09:00:00</td>\n",
       "      <td>0</td>\n",
       "      <td>0</td>\n",
       "      <td>5</td>\n",
       "      <td>5</td>\n",
       "    </tr>\n",
       "    <tr>\n",
       "      <th>2</th>\n",
       "      <td>2024-03-01 10:00:00</td>\n",
       "      <td>0</td>\n",
       "      <td>0</td>\n",
       "      <td>2</td>\n",
       "      <td>2</td>\n",
       "    </tr>\n",
       "    <tr>\n",
       "      <th>3</th>\n",
       "      <td>2024-03-01 11:00:00</td>\n",
       "      <td>0</td>\n",
       "      <td>0</td>\n",
       "      <td>3</td>\n",
       "      <td>3</td>\n",
       "    </tr>\n",
       "    <tr>\n",
       "      <th>4</th>\n",
       "      <td>2024-03-02 08:00:00</td>\n",
       "      <td>0</td>\n",
       "      <td>0</td>\n",
       "      <td>1</td>\n",
       "      <td>1</td>\n",
       "    </tr>\n",
       "  </tbody>\n",
       "</table>\n",
       "</div>"
      ],
      "text/plain": [
       "              datetime  pax_pagos  pax_pases_pagos  pax_franq  pax_TOTAL\n",
       "0  2024-03-01 08:00:00          0                0          6          6\n",
       "1  2024-03-01 09:00:00          0                0          5          5\n",
       "2  2024-03-01 10:00:00          0                0          2          2\n",
       "3  2024-03-01 11:00:00          0                0          3          3\n",
       "4  2024-03-02 08:00:00          0                0          1          1"
      ]
     },
     "execution_count": 9,
     "metadata": {},
     "output_type": "execute_result"
    }
   ],
   "source": [
    "### START CODE HERE ###\n",
    "\n",
    "# Get the list of features without `station` and `line`.\n",
    "columns = ['datetime', 'pax_pagos', 'pax_pases_pagos', 'pax_franq', 'pax_TOTAL']\n",
    "\n",
    "# Select the columns in the list above.\n",
    "df_pax = df[columns]\n",
    "\n",
    "# Preview the simplified DataFrame.\n",
    "df_pax.head()\n",
    "\n",
    "### END CODE HERE ###"
   ]
  },
  {
   "cell_type": "markdown",
   "metadata": {},
   "source": [
    "<details open>\n",
    "<summary style=\"background-color: #c6e2ff6c; padding: 10px; border-radius: 3px; box-shadow: 0 2px 4px rgba(0, 0, 0, 0.01); width: 95%; text-align: left; cursor: pointer; font-weight: bold;\">\n",
    "Expected output:</summary> \n",
    "\n",
    "<br>\n",
    "<img src=\"imgsL1/output_step3.png\" width=\"580\">\n",
    "</details>"
   ]
  },
  {
   "cell_type": "markdown",
   "metadata": {},
   "source": [
    "<details>\n",
    "<summary style=\"background-color: #FDBFC7; padding: 10px; border-radius: 3px; box-shadow: 0 2px 4px rgba(0, 0, 0, 0.1); width: 95%; text-align: left; cursor: pointer; font-weight: bold;\">\n",
    "Click here to see the solution</summary> \n",
    "\n",
    "<ul style=\"background-color: #FFF8F8; padding: 10px; border-radius: 3px; margin-top: 5px; width: 95%; box-shadow: inset 0 2px 4px rgba(0, 0, 0, 0.1);\">\n",
    "   \n",
    "Your solution should look something like this:\n",
    "\n",
    "```python\n",
    "# Get the list of features without `station` and `line`.\n",
    "columns = [\"datetime\", \"pax_pagos\", \"pax_pases_pagos\", \"pax_franq\", \"pax_TOTAL\"]\n",
    "\n",
    "# Select the columns in the list above.\n",
    "df_pax = df[columns]\n",
    "\n",
    "# Preview the simplified DataFrame.\n",
    "df_pax.head()\n",
    "```\n",
    "</details>"
   ]
  },
  {
   "cell_type": "markdown",
   "metadata": {},
   "source": [
    "<a id=\"step-4\"></a>\n",
    "## Step 4: Calculate the sum per column\n",
    "\n",
    "You want to calculate how much each type of passenger payment contributes to the total passenger count. This can help you quantify how much discounted rates affects the total revenue for that particular month.\n",
    "\n",
    "<div style=\"background-color: #C6E2FF; padding: 10px; border-radius: 3px; box-shadow: 0 2px 4px rgba(0, 0, 0, 0.1); width:95%\n",
    "\">\n",
    "    <strong>▶▶▶ Directions</strong> \n",
    "        <ol>\n",
    "            <li>Use the <code>sum()</code> method to count the total number of passengers under the <code>pax_pagos</code>, <code>pax_pases_pagos</code>, <code>pax_franq</code> and <code>pax_TOTAL</code> columns.</li>\n",
    "        </ol>\n",
    "</div>"
   ]
  },
  {
   "cell_type": "code",
   "execution_count": 10,
   "metadata": {},
   "outputs": [
    {
     "name": "stdout",
     "output_type": "stream",
     "text": [
      "Percent of `pax_pagos`: 93.89642215324294\n",
      "Percent of `pax_pases_pagos`: 0.04247671949027937\n",
      "Percent of `pax_franq`: 6.061101127266786\n"
     ]
    }
   ],
   "source": [
    "### START CODE HERE ###\n",
    "\n",
    "# Get the sum for `pax_pagos`\n",
    "df_pax_pagos = df['pax_pagos'].sum()\n",
    "\n",
    "# Get the sum for `pax_pases_pagos`\n",
    "df_pax_pases_pagos = df['pax_pases_pagos'].sum()\n",
    "\n",
    "# Get the sum for `pax_franq`\n",
    "df_pax_franq = df['pax_franq'].sum()\n",
    "\n",
    "# Get the sum for `pax_TOTAL`\n",
    "df_pax_total = df['pax_TOTAL'].sum()\n",
    "\n",
    "### END CODE HERE ###\n",
    "\n",
    "print(\"Percent of `pax_pagos`:\", (df_pax_pagos/df_pax_total*100))\n",
    "print(\"Percent of `pax_pases_pagos`:\", (df_pax_pases_pagos/df_pax_total*100))\n",
    "print(\"Percent of `pax_franq`:\", (df_pax_franq/df_pax_total*100))"
   ]
  },
  {
   "cell_type": "markdown",
   "metadata": {},
   "source": [
    "<details open>\n",
    "<summary style=\"background-color: #c6e2ff6c; padding: 10px; border-radius: 3px; box-shadow: 0 2px 4px rgba(0, 0, 0, 0.01); width: 95%; text-align: left; cursor: pointer; font-weight: bold;\">\n",
    "Expected output:</summary> \n",
    "\n",
    "<br>\n",
    "\n",
    "```text\n",
    "Percent of `pax_pagos`: 93.89642215324294\n",
    "Percent of `pax_pases_pagos`: 0.04247671949027937\n",
    "Percent of `pax_franq`: 6.061101127266786\n",
    "\n",
    "```\n",
    "\n",
    "</details>"
   ]
  },
  {
   "cell_type": "markdown",
   "metadata": {},
   "source": [
    "<details>\n",
    "<summary style=\"background-color: #FDBFC7; padding: 10px; border-radius: 3px; box-shadow: 0 2px 4px rgba(0, 0, 0, 0.1); width: 95%; text-align: left; cursor: pointer; font-weight: bold;\">\n",
    "Click here to see the solution</summary> \n",
    "\n",
    "<ul style=\"background-color: #FFF8F8; padding: 10px; border-radius: 3px; margin-top: 5px; width: 95%; box-shadow: inset 0 2px 4px rgba(0, 0, 0, 0.1);\">\n",
    "   \n",
    "Your solution should look something like this:\n",
    "\n",
    "```python\n",
    "# Get the sum for \"pax_pagos\"\n",
    "df_pax_pagos = df_pax[\"pax_pagos\"].sum()\n",
    "\n",
    "# Get the sum for \"pax_pases_pagos\"\n",
    "df_pax_pases_pagos = df_pax[\"pax_pases_pagos\"].sum()\n",
    "\n",
    "# Get the sum for \"pax_franq\"\n",
    "df_pax_franq = df_pax[\"pax_franq\"].sum()\n",
    "\n",
    "# Get the sum for \"pax_TOTAL\"\n",
    "df_pax_total = df_pax[\"pax_TOTAL\"].sum()\n",
    "```\n",
    "</details>"
   ]
  },
  {
   "cell_type": "markdown",
   "metadata": {},
   "source": [
    "You can also get some preliminary visualization of the data. Say you want to visually inspect what is the typical total passenger count at these hours. You can use the `.hist()` method to do just that."
   ]
  },
  {
   "cell_type": "code",
   "execution_count": 11,
   "metadata": {},
   "outputs": [
    {
     "data": {
      "text/plain": [
       "<Axes: >"
      ]
     },
     "execution_count": 11,
     "metadata": {},
     "output_type": "execute_result"
    },
    {
     "data": {
      "image/png": "[encoded data removed]",
      "text/plain": [
       "<Figure size 640x480 with 1 Axes>"
      ]
     },
     "metadata": {},
     "output_type": "display_data"
    }
   ],
   "source": [
    "# Generate a histogram of `pax_TOTAL`.\n",
    "df_pax[\"pax_TOTAL\"].hist(bins=40)"
   ]
  },
  {
   "cell_type": "markdown",
   "metadata": {},
   "source": [
    "You can see that there seems to be two clusters here divided along the 250 passenger mark. You can get a sense of how free or crowded the station can become at these hours by looking at the taller columns in the chart."
   ]
  },
  {
   "cell_type": "markdown",
   "metadata": {},
   "source": [
    "**You've reached the end of the lab! In the next lesson, you will know more about how to sort and filter DataFrames to get more insights. You will also get to use a more complex dataset in the next practice labs. See you there!**"
   ]
  }
 ],
 "metadata": {
  "kernelspec": {
   "display_name": "Python 3 (ipykernel)",
   "language": "python",
   "name": "python3"
  },
  "language_info": {
   "codemirror_mode": {
    "name": "ipython",
    "version": 3
   },
   "file_extension": ".py",
   "mimetype": "text/x-python",
   "name": "python",
   "nbconvert_exporter": "python",
   "pygments_lexer": "ipython3",
   "version": "3.11.6"
  }
 },
 "nbformat": 4,
 "nbformat_minor": 4
}
