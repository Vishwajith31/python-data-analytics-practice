{
 "cells": [
  {
   "cell_type": "markdown",
   "metadata": {},
   "source": [
    "# C3M3 Lesson 1 Practice Lab: Flight delays and cancellations - Matplotlib Charts\n",
    "\n",
    "You are working at a travel agency in Australia. You are tasked with analyzing the delays and cancellations in flights. To better serve customers, the travel agency needs insights into the variability and distribution of flight delays. Are delays typically minor, or do extreme outliers cause issues? You will be using advanced visualization tools like histograms, heatmaps, and boxplots, to analyze these factors.\n",
    "\n",
    "In this module's practice labs you will be working with the Domestic Airlines - On Time Performance dataset from the Australian Government data. You will use the following columns:\n",
    "\n",
    "- `Route`: Plane route Departure City - Arrival City\n",
    "- `Airline`: name of the operating airline. If the value is “All Airlines”, the data given represents aggregated values.\n",
    "- `Month`: month of the flight\n",
    "- `Sectors_Flown`: how many flights were actually done for the given airline and route for the given month\n",
    "- `Cancellations`: number of cancellations\n",
    "- `Arrivals_Delayed`: Number of flights that arrived at the gate 15 minutes after the scheduled arrival time shown in the carriers' schedule.\n",
    "\n",
    "## General instructions\n",
    "- **Replace any instances of `None` with your own code**. All `None`s must be replaced.\n",
    "- **Compare your results with the expected output** shown below the code.\n",
    "- **Check the solution** using the expandable cell to verify your answer.\n",
    "\n",
    "Happy coding!\n",
    "\n",
    "<div style=\"background-color: #FAD888; padding: 10px; border-radius: 3px; box-shadow: 0 2px 4px rgba(0, 0, 0, 0.1); width:95%\n",
    "\">\n",
    "<strong>Important note</strong>: Code blocks with None will not run properly. If you run them before completing the exercise, you will likely get an error. \n",
    "\n",
    "</div>"
   ]
  },
  {
   "cell_type": "markdown",
   "metadata": {},
   "source": [
    "## Table of contents\n",
    "- [Step 1: Import libraries](#import-libraries)\n",
    "- [Step 2: Load the data](#load-the-data)\n",
    "- [Step 3: Cancellations by airline](#cancellations-by-airline)\n",
    "- [Step 4: Correlations](#correlations)\n",
    "- [Step 5: Cancellations by route](#cancellations-by-route)"
   ]
  },
  {
   "cell_type": "markdown",
   "metadata": {},
   "source": [
    "<a id=\"import-libraries\"></a>\n",
    "\n",
    "## Step 1: Import libraries\n",
    "This time you will need to import matplotlib in addition to pandas."
   ]
  },
  {
   "cell_type": "code",
   "execution_count": 1,
   "metadata": {},
   "outputs": [],
   "source": [
    "import pandas as pd\n",
    "import matplotlib.pyplot as plt"
   ]
  },
  {
   "cell_type": "markdown",
   "metadata": {},
   "source": [
    "<a id=\"load-the-data\"></a>\n",
    "\n",
    "## Step 2: Load the data\n",
    "Run the cell below to load the data.\n",
    "</div>"
   ]
  },
  {
   "cell_type": "code",
   "execution_count": 2,
   "metadata": {},
   "outputs": [
    {
     "data": {
      "text/html": [
       "<div>\n",
       "<style scoped>\n",
       "    .dataframe tbody tr th:only-of-type {\n",
       "        vertical-align: middle;\n",
       "    }\n",
       "\n",
       "    .dataframe tbody tr th {\n",
       "        vertical-align: top;\n",
       "    }\n",
       "\n",
       "    .dataframe thead th {\n",
       "        text-align: right;\n",
       "    }\n",
       "</style>\n",
       "<table border=\"1\" class=\"dataframe\">\n",
       "  <thead>\n",
       "    <tr style=\"text-align: right;\">\n",
       "      <th></th>\n",
       "      <th>Route</th>\n",
       "      <th>Departing_Port</th>\n",
       "      <th>Arriving_Port</th>\n",
       "      <th>Airline</th>\n",
       "      <th>Month</th>\n",
       "      <th>Sectors_Scheduled</th>\n",
       "      <th>Sectors_Flown</th>\n",
       "      <th>Cancellations</th>\n",
       "      <th>Departures_On_Time</th>\n",
       "      <th>Arrivals_On_Time</th>\n",
       "      <th>Departures_Delayed</th>\n",
       "      <th>Arrivals_Delayed</th>\n",
       "    </tr>\n",
       "  </thead>\n",
       "  <tbody>\n",
       "    <tr>\n",
       "      <th>0</th>\n",
       "      <td>Adelaide-Brisbane</td>\n",
       "      <td>Adelaide</td>\n",
       "      <td>Brisbane</td>\n",
       "      <td>Qantas</td>\n",
       "      <td>2004-01-01</td>\n",
       "      <td>93.0</td>\n",
       "      <td>93</td>\n",
       "      <td>0.0</td>\n",
       "      <td>81.0</td>\n",
       "      <td>85.0</td>\n",
       "      <td>12.0</td>\n",
       "      <td>8.0</td>\n",
       "    </tr>\n",
       "    <tr>\n",
       "      <th>1</th>\n",
       "      <td>Adelaide-Canberra</td>\n",
       "      <td>Adelaide</td>\n",
       "      <td>Canberra</td>\n",
       "      <td>Qantas</td>\n",
       "      <td>2004-01-01</td>\n",
       "      <td>48.0</td>\n",
       "      <td>48</td>\n",
       "      <td>0.0</td>\n",
       "      <td>45.0</td>\n",
       "      <td>45.0</td>\n",
       "      <td>3.0</td>\n",
       "      <td>3.0</td>\n",
       "    </tr>\n",
       "    <tr>\n",
       "      <th>2</th>\n",
       "      <td>Adelaide-Gold Coast</td>\n",
       "      <td>Adelaide</td>\n",
       "      <td>Gold Coast</td>\n",
       "      <td>Qantas</td>\n",
       "      <td>2004-01-01</td>\n",
       "      <td>9.0</td>\n",
       "      <td>9</td>\n",
       "      <td>0.0</td>\n",
       "      <td>8.0</td>\n",
       "      <td>8.0</td>\n",
       "      <td>1.0</td>\n",
       "      <td>1.0</td>\n",
       "    </tr>\n",
       "    <tr>\n",
       "      <th>3</th>\n",
       "      <td>Adelaide-Melbourne</td>\n",
       "      <td>Adelaide</td>\n",
       "      <td>Melbourne</td>\n",
       "      <td>Qantas</td>\n",
       "      <td>2004-01-01</td>\n",
       "      <td>352.0</td>\n",
       "      <td>350</td>\n",
       "      <td>2.0</td>\n",
       "      <td>317.0</td>\n",
       "      <td>325.0</td>\n",
       "      <td>33.0</td>\n",
       "      <td>25.0</td>\n",
       "    </tr>\n",
       "    <tr>\n",
       "      <th>4</th>\n",
       "      <td>Adelaide-Perth</td>\n",
       "      <td>Adelaide</td>\n",
       "      <td>Perth</td>\n",
       "      <td>Qantas</td>\n",
       "      <td>2004-01-01</td>\n",
       "      <td>130.0</td>\n",
       "      <td>130</td>\n",
       "      <td>0.0</td>\n",
       "      <td>121.0</td>\n",
       "      <td>125.0</td>\n",
       "      <td>9.0</td>\n",
       "      <td>5.0</td>\n",
       "    </tr>\n",
       "  </tbody>\n",
       "</table>\n",
       "</div>"
      ],
      "text/plain": [
       "                 Route Departing_Port Arriving_Port Airline       Month  \\\n",
       "0    Adelaide-Brisbane       Adelaide      Brisbane  Qantas  2004-01-01   \n",
       "1    Adelaide-Canberra       Adelaide      Canberra  Qantas  2004-01-01   \n",
       "2  Adelaide-Gold Coast       Adelaide    Gold Coast  Qantas  2004-01-01   \n",
       "3   Adelaide-Melbourne       Adelaide     Melbourne  Qantas  2004-01-01   \n",
       "4       Adelaide-Perth       Adelaide         Perth  Qantas  2004-01-01   \n",
       "\n",
       "   Sectors_Scheduled  Sectors_Flown  Cancellations  Departures_On_Time  \\\n",
       "0               93.0             93            0.0                81.0   \n",
       "1               48.0             48            0.0                45.0   \n",
       "2                9.0              9            0.0                 8.0   \n",
       "3              352.0            350            2.0               317.0   \n",
       "4              130.0            130            0.0               121.0   \n",
       "\n",
       "   Arrivals_On_Time  Departures_Delayed  Arrivals_Delayed  \n",
       "0              85.0                12.0               8.0  \n",
       "1              45.0                 3.0               3.0  \n",
       "2               8.0                 1.0               1.0  \n",
       "3             325.0                33.0              25.0  \n",
       "4             125.0                 9.0               5.0  "
      ]
     },
     "execution_count": 2,
     "metadata": {},
     "output_type": "execute_result"
    }
   ],
   "source": [
    "df = pd.read_csv(\"otp_time_series_web.csv\")\n",
    "df.head()"
   ]
  },
  {
   "cell_type": "markdown",
   "metadata": {},
   "source": [
    "<a id=\"cancellations-by-airline\"></a>\n",
    "\n",
    "## Step 3: Cancellations by airline\n",
    "The routes with the largest number of scheduled flights are, by far, the ones connecting Melbourne and Sydney, the two largest cities in Australia.\n",
    "You want to visualize the cancellation rate per airline for the Melbourne-Sydney Route during the last reported month (2024-09-01) \n",
    "\n",
    "<div style=\"background-color: #C6E2FF; padding: 10px; border-radius: 3px; box-shadow: 0 2px 4px rgba(0, 0, 0, 0.1); width:95%\n",
    "\">\n",
    "    <strong>▶▶▶ Directions</strong> \n",
    "        <ol>\n",
    "            <li>Use the next cell to retrieve the rows corresponding to the last reported month (<code>2024-09-01</code>) for the <code>Melbourne-Sydney</code> Route.</li>\n",
    "            <li>Group the data by <code>Airline</code> and sum the values in the <code>Cancellations</code> column to aggregate cancellations for each airline.</li>\n",
    "            <li>Create a column chart to visualize the number of cancellations of each airline for the selected data.</li>\n",
    "        </ol>\n",
    "</div>\n"
   ]
  },
  {
   "cell_type": "code",
   "execution_count": 4,
   "metadata": {},
   "outputs": [
    {
     "data": {
      "image/png": "[encoded data removed]",
      "text/plain": [
       "<Figure size 640x480 with 1 Axes>"
      ]
     },
     "metadata": {},
     "output_type": "display_data"
    }
   ],
   "source": [
    "### START CODE HERE ###\n",
    "\n",
    "# Filter for the Melbourne-Sydney route in September 2024\n",
    "mel_syd_end_month = df[(df[\"Route\"] == 'Melbourne-Sydney') & (df[\"Month\"] == '2024-09-01')]\n",
    "\n",
    "# Group by Airline and sum the Cancellations column\n",
    "grouped_cancellations = mel_syd_end_month.groupby('Airline')['Cancellations'].sum()\n",
    "\n",
    "# Plot the column chart\n",
    "grouped_cancellations.plot(kind=\"bar\")\n",
    "plt.show()\n",
    "\n",
    "### END CODE HERE ###"
   ]
  },
  {
   "cell_type": "markdown",
   "metadata": {},
   "source": [
    "<details open>\n",
    "<summary style=\"background-color: #c6e2ff6c; padding: 10px; border-radius: 3px; box-shadow: 0 2px 4px rgba(0, 0, 0, 0.01); width: 95%; text-align: left; cursor: pointer; font-weight: bold;\">\n",
    "Expected output:</summary> \n",
    "<br>\n",
    "\n",
    "<img src=\"imgsL1/barchar_bare.png\" width=\"350\">\n",
    "\n",
    "</details>"
   ]
  },
  {
   "cell_type": "markdown",
   "metadata": {},
   "source": [
    "<details>\n",
    "<summary style=\"background-color: #FDBFC7; padding: 10px; border-radius: 3px; box-shadow: 0 2px 4px rgba(0, 0, 0, 0.1); width: 95%; text-align: left; cursor: pointer; font-weight: bold;\">\n",
    "Click here to see the solution</summary> \n",
    "\n",
    "<ul style=\"background-color: #FFF8F8; padding: 10px; border-radius: 3px; margin-top: 5px; width: 95%; box-shadow: inset 0 2px 4px rgba(0, 0, 0, 0.1);\">\n",
    "   \n",
    "Your solution should look something like this:\n",
    "\n",
    "```python\n",
    "# Filter for the Melbourne-Sydney route in September 2024\n",
    "mel_syd_end_month = df[(df[\"Route\"] == \"Melbourne-Sydney\") & (df[\"Month\"] == \"2024-09-01\")]\n",
    "\n",
    "# Group by Airline and sum the Cancellations column\n",
    "grouped_cancellations = mel_syd_end_month.groupby(\"Airline\")[\"Cancellations\"].sum()\n",
    "\n",
    "# Plot the column chart\n",
    "grouped_cancellations.plot(kind=\"bar\")\n",
    "plt.show()\n",
    "```\n",
    "</details>"
   ]
  },
  {
   "cell_type": "markdown",
   "metadata": {},
   "source": [
    "This column chart is ok-ish, but it could be better. Use the next cell to improve the column chart so it looks better.\n",
    "\n",
    "<div style=\"background-color: #C6E2FF; padding: 10px; border-radius: 3px; box-shadow: 0 2px 4px rgba(0, 0, 0, 0.1); width:95%\n",
    "\">\n",
    "    <strong>▶▶▶ Directions</strong> \n",
    "        <ol>\n",
    "            <li>Use the cell below to repeat the column chart, but this time apply the following enhancements:</li>\n",
    "            <ul>\n",
    "                <li>Give the chart an appropriate title</li>\n",
    "                <li>Rotate the x-axis tick labels to 0 degrees (horizontal)</li>\n",
    "                <li>Set a good y-axis label, showing what the values represent</li>\n",
    "            </ul>\n",
    "        </ol>\n",
    "</div>"
   ]
  },
  {
   "cell_type": "code",
   "execution_count": null,
   "metadata": {},
   "outputs": [],
   "source": [
    "### START CODE HERE ###\n",
    "\n",
    "# repeat the column chart\n",
    "grouped_cancellations.plot(kind=\"bar\")\n",
    "# add the title\n",
    "plt.title(None)\n",
    "# rotate the xticks\n",
    "plt.xticks(rotation=None)\n",
    "# set the ylabel\n",
    "plt.ylabel(None)\n",
    "\n",
    "plt.show()\n",
    "\n",
    "### END CODE HERE ###"
   ]
  },
  {
   "cell_type": "markdown",
   "metadata": {},
   "source": [
    "<details open>\n",
    "<summary style=\"background-color: #c6e2ff6c; padding: 10px; border-radius: 3px; box-shadow: 0 2px 4px rgba(0, 0, 0, 0.01); width: 95%; text-align: left; cursor: pointer; font-weight: bold;\">\n",
    "Expected output:</summary> \n",
    "\n",
    "Your plot should look something like this, though your title and y-axis text might be a bit different\n",
    "\n",
    "<img src=\"imgsL1/barchart.png\" width=\"400\">\n",
    "\n",
    "</details>"
   ]
  },
  {
   "cell_type": "markdown",
   "metadata": {},
   "source": [
    "<details>\n",
    "<summary style=\"background-color: #FDBFC7; padding: 10px; border-radius: 3px; box-shadow: 0 2px 4px rgba(0, 0, 0, 0.1); width: 95%; text-align: left; cursor: pointer; font-weight: bold;\">\n",
    "Click here to see the solution</summary> \n",
    "\n",
    "<ul style=\"background-color: #FFF8F8; padding: 10px; border-radius: 3px; margin-top: 5px; width: 95%; box-shadow: inset 0 2px 4px rgba(0, 0, 0, 0.1);\">\n",
    "   \n",
    "Your solution should look something like this:\n",
    "\n",
    "```python\n",
    "# repeat the column chart\n",
    "grouped_airline_cancellations.plot(kind=\"bar\")\n",
    "# add the title\n",
    "plt.title(\"Number of cancelled flights for the Melbourne-Sydney route (Sep-2024)\")\n",
    "# rotate the xticks\n",
    "plt.xticks(rotation=0)\n",
    "# set the ylabel\n",
    "plt.ylabel(\"Number of cancelled flights\")\n",
    "\n",
    "plt.show()\n",
    "```\n",
    "</details>"
   ]
  },
  {
   "cell_type": "markdown",
   "metadata": {},
   "source": [
    "A good way to better understand how many flights were cancelled is to plot the cancellations together with the non-cancelled flights (Sectors_Flown). This kind of information is particularly well suited for a stacked bar chart, as the sum of these two adds together to the total number of scheduled flights.\n",
    "\n",
    "<div style=\"background-color: #C6E2FF; padding: 10px; border-radius: 3px; box-shadow: 0 2px 4px rgba(0, 0, 0, 0.1); width:95%\n",
    "\">\n",
    "    <strong>▶▶▶ Directions</strong> \n",
    "        <ol>\n",
    "            <li>Save the two columns of interest: <code>Sectors_Flown</code>, <code>Cancellations</code> to the columns variable.</li>\n",
    "            <li>Group by <code>Airline</code> and select the columns of interest to sum.</li>\n",
    "            <li>Plot a stacked column chart (<code>kind=\"bar\"</code>, <code>stacked=True</code>) showing the sum of cancellations and delays per quarter.</li>\n",
    "            <li>Give the chart an appropriate title.</li>\n",
    "            <li>Rotate the x-axis tick labels to 0 degrees (horizontal).</li>\n",
    "            <li>Set a good y-axis label, showing what the values represent.</li>\n",
    "        </ol>\n",
    "</div> "
   ]
  },
  {
   "cell_type": "code",
   "execution_count": 6,
   "metadata": {},
   "outputs": [
    {
     "data": {
      "image/png": "[encoded data removed]",
      "text/plain": [
       "<Figure size 640x480 with 1 Axes>"
      ]
     },
     "metadata": {},
     "output_type": "display_data"
    }
   ],
   "source": [
    "### START CODE HERE ###\n",
    "\n",
    "# define the columns of interest\n",
    "columns = ['Sectors_Flown', 'Cancellations']\n",
    "\n",
    "# group by Airline and sum the columns of interest\n",
    "grouped_flown_and_cancellations = mel_syd_end_month.groupby('Airline')[columns].sum()\n",
    "\n",
    "# plot a stacked bar chart\n",
    "grouped_flown_and_cancellations.plot(\n",
    "    kind='bar', \n",
    "    stacked=True\n",
    ")\n",
    "\n",
    "# add the title\n",
    "plt.title('Number of cancelled and non-cancelled flights for the Melbourne-Sydney route (Sep-2024)')\n",
    "# rotate the xticks\n",
    "plt.xticks(rotation=0)\n",
    "# set the ylabel\n",
    "plt.ylabel('Number of flights')\n",
    "\n",
    "plt.show()\n",
    "\n",
    "### END CODE HERE ###"
   ]
  },
  {
   "cell_type": "markdown",
   "metadata": {},
   "source": [
    "<details open>\n",
    "<summary style=\"background-color: #c6e2ff6c; padding: 10px; border-radius: 3px; box-shadow: 0 2px 4px rgba(0, 0, 0, 0.01); width: 95%; text-align: left; cursor: pointer; font-weight: bold;\">\n",
    "Expected output:</summary> \n",
    "\n",
    "Your plot should look something like this, though your title and y-axis text might be a bit different\n",
    "\n",
    "<img src=\"imgsL1/stacked_bar.png\" width=\"400\">\n",
    "\n",
    "</details>"
   ]
  },
  {
   "cell_type": "markdown",
   "metadata": {},
   "source": [
    "<details>\n",
    "<summary style=\"background-color: #FDBFC7; padding: 10px; border-radius: 3px; box-shadow: 0 2px 4px rgba(0, 0, 0, 0.1); width: 95%; text-align: left; cursor: pointer; font-weight: bold;\">\n",
    "Click here to see the solution</summary> \n",
    "\n",
    "<ul style=\"background-color: #FFF8F8; padding: 10px; border-radius: 3px; margin-top: 5px; width: 95%; box-shadow: inset 0 2px 4px rgba(0, 0, 0, 0.1);\">\n",
    "   \n",
    "Your solution should look something like this:\n",
    "\n",
    "```python\n",
    "# define the columns of interest\n",
    "columns = ['Sectors_Flown', 'Cancellations']\n",
    "\n",
    "# group by Airline and sum the columns of interest\n",
    "grouped_flown_and_cancellations = mel_syd_end_month.groupby(\"Airline\")[columns].sum()\n",
    "\n",
    "# plot a stacked bar chart\n",
    "grouped_flown_and_cancellations.plot(\n",
    "    kind='bar', \n",
    "    stacked=True, \n",
    ")\n",
    "\n",
    "# add the title\n",
    "plt.title(\"Number of cancelled and non-cancelled flights for the Melbourne-Sydney route (Sep-2024)\")\n",
    "# rotate the xticks\n",
    "plt.xticks(rotation=0)\n",
    "# set the ylabel\n",
    "plt.ylabel(\"Number of flights\")\n",
    "\n",
    "plt.show()\n",
    "```\n",
    "</details>"
   ]
  },
  {
   "cell_type": "markdown",
   "metadata": {},
   "source": [
    "Based on this plot, which airline would you rather book? \n",
    "\n",
    "<a id=\"correlations\"></a>\n",
    "\n",
    "## Step 4: Correlations\n",
    "\n",
    "As the travel agency aims to improve flight scheduling, it’s important to understand how delays and cancellations are connected. You decide to create a scatter plot of the number of delayed flights vs. number of cancellations and see if you can reveal any patterns, helping you identify correlations that can inform safer booking recommendations.\n",
    "\n",
    "<div style=\"background-color: #C6E2FF; padding: 10px; border-radius: 3px; box-shadow: 0 2px 4px rgba(0, 0, 0, 0.1); width:95%\n",
    "\">\n",
    "    <strong>▶▶▶ Directions</strong> \n",
    "        <ol>\n",
    "            <li>Use the following cell to create a scatter plot of the \"Cancellations\" and \"Arrivals_Delayed\" columns</li>\n",
    "            <ul>\n",
    "                <li>Change the markers to have diamond shapes ('D'), and color \"forestgreen\". You can do this configuring the arguments  <code>marker></code> and <code>color</code> respectively</li>\n",
    "            </ul>\n",
    "            <li>Use Matplotlib to enhance the plot:</li>\n",
    "            <ul>\n",
    "                <li>Add an appropriate title. Set the font size to 15</li> \n",
    "                <li>Change the \"Arrivals_Delayed\" axis label to \"Delayed Arrivals\"\n",
    "            </ul>\n",
    "            <li>Print the correlation between the features and compare with the scatter plot</li>\n",
    "        </ol>\n",
    "</div>"
   ]
  },
  {
   "cell_type": "code",
   "execution_count": 7,
   "metadata": {},
   "outputs": [
    {
     "data": {
      "image/png": "[encoded data removed]",
      "text/plain": [
       "<Figure size 640x480 with 1 Axes>"
      ]
     },
     "metadata": {},
     "output_type": "display_data"
    },
    {
     "name": "stdout",
     "output_type": "stream",
     "text": [
      "Correlation: 0.5303277412615731\n"
     ]
    }
   ],
   "source": [
    "### START CODE HERE ###\n",
    "\n",
    "# create the scatter plot. Set the marker configuration\n",
    "df.plot(kind='scatter', x='Arrivals_Delayed', y='Cancellations', color='forestgreen', marker='D')\n",
    "# set the title\n",
    "plt.title('Correlation between cancellations and delayed flights')\n",
    "# change the Arrivals_Delayed label\n",
    "plt.xlabel('Delayed Arrivals')\n",
    "plt.ylabel('Cancellations')\n",
    "plt.xticks(rotation=0)\n",
    "\n",
    "plt.show()\n",
    "\n",
    "### END CODE HERE ###\n",
    "\n",
    "# print the correlation\n",
    "print(\"Correlation:\", df[\"Cancellations\"].corr(df[\"Arrivals_Delayed\"]))"
   ]
  },
  {
   "cell_type": "markdown",
   "metadata": {},
   "source": [
    "<details open>\n",
    "<summary style=\"background-color: #c6e2ff6c; padding: 10px; border-radius: 3px; box-shadow: 0 2px 4px rgba(0, 0, 0, 0.01); width: 95%; text-align: left; cursor: pointer; font-weight: bold;\">\n",
    "Expected output:</summary> \n",
    "\n",
    "\n",
    "```\n",
    "Correlation: 0.5303277412615732\n",
    "```\n",
    "\n",
    "<img src=\"imgsL1/correl.png\" width=\"400\">\n",
    "\n",
    "</details>"
   ]
  },
  {
   "cell_type": "markdown",
   "metadata": {},
   "source": [
    "<details>\n",
    "<summary style=\"background-color: #FDBFC7; padding: 10px; border-radius: 3px; box-shadow: 0 2px 4px rgba(0, 0, 0, 0.1); width: 95%; text-align: left; cursor: pointer; font-weight: bold;\">\n",
    "Click here to see the solution</summary> \n",
    "\n",
    "<ul style=\"background-color: #FFF8F8; padding: 10px; border-radius: 3px; margin-top: 5px; width: 95%; box-shadow: inset 0 2px 4px rgba(0, 0, 0, 0.1);\">\n",
    "   \n",
    "Your solution should look something like this:\n",
    "\n",
    "```python\n",
    "# create the scatter plot. Set the marker configuration\n",
    "df.plot(kind='scatter', x=\"Arrivals_Delayed\", y=\"Cancellations\", color=\"forestgreen\", marker=\"D\")\n",
    "# set the title\n",
    "plt.title(\"Correlation between cancellations and delayed flights\")\n",
    "# change the Arrivals_Delayed label\n",
    "plt.xlabel(\"Delayed Arrivals\")\n",
    "\n",
    "plt.show()\n",
    "\n",
    "# print the correlation\n",
    "print(\"Correlation:\", df[\"Cancellations\"].corr(df[\"Arrivals_Delayed\"]))\n",
    "```\n",
    "</details>"
   ]
  },
  {
   "cell_type": "markdown",
   "metadata": {},
   "source": [
    "Congratulations for making it until the end of this lab. You will keep working on this dataset in Lesson two. Hope you enjoyed it! "
   ]
  }
 ],
 "metadata": {
  "kernelspec": {
   "display_name": "Python 3 (ipykernel)",
   "language": "python",
   "name": "python3"
  },
  "language_info": {
   "codemirror_mode": {
    "name": "ipython",
    "version": 3
   },
   "file_extension": ".py",
   "mimetype": "text/x-python",
   "name": "python",
   "nbconvert_exporter": "python",
   "pygments_lexer": "ipython3",
   "version": "3.11.6"
  }
 },
 "nbformat": 4,
 "nbformat_minor": 4
}
